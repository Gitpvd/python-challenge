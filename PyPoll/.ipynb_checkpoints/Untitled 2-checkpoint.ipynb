{
 "cells": [
  {
   "cell_type": "code",
   "execution_count": 1,
   "metadata": {},
   "outputs": [],
   "source": [
    "import os\n",
    "import csv"
   ]
  },
  {
   "cell_type": "code",
   "execution_count": 9,
   "metadata": {},
   "outputs": [],
   "source": [
    "pypollfile_path=\"election_data.csv\""
   ]
  },
  {
   "cell_type": "code",
   "execution_count": 11,
   "metadata": {},
   "outputs": [
    {
     "data": {
      "text/plain": [
       "'/Users/Preethi/Desktop/python-challenge/PyPoll/Other working files'"
      ]
     },
     "execution_count": 11,
     "metadata": {},
     "output_type": "execute_result"
    }
   ],
   "source": [
    "pwd!"
   ]
  },
  {
   "cell_type": "code",
   "execution_count": 10,
   "metadata": {},
   "outputs": [
    {
     "ename": "FileNotFoundError",
     "evalue": "[Errno 2] No such file or directory: 'election_data.csv'",
     "output_type": "error",
     "traceback": [
      "\u001b[0;31m---------------------------------------------------------------------------\u001b[0m",
      "\u001b[0;31mFileNotFoundError\u001b[0m                         Traceback (most recent call last)",
      "\u001b[0;32m<ipython-input-10-7f33c4f5d5bf>\u001b[0m in \u001b[0;36m<module>\u001b[0;34m\u001b[0m\n\u001b[0;32m----> 1\u001b[0;31m \u001b[0;32mwith\u001b[0m \u001b[0mopen\u001b[0m\u001b[0;34m(\u001b[0m\u001b[0;34m\"election_data.csv\"\u001b[0m\u001b[0;34m,\u001b[0m\u001b[0;34m\"r\"\u001b[0m\u001b[0;34m)\u001b[0m \u001b[0;32mas\u001b[0m \u001b[0mpypollfile\u001b[0m\u001b[0;34m:\u001b[0m\u001b[0;34m\u001b[0m\u001b[0;34m\u001b[0m\u001b[0m\n\u001b[0m\u001b[1;32m      2\u001b[0m      \u001b[0mcsv_reader\u001b[0m \u001b[0;34m=\u001b[0m \u001b[0mcsv\u001b[0m\u001b[0;34m.\u001b[0m\u001b[0mreader\u001b[0m\u001b[0;34m(\u001b[0m\u001b[0mpypollfile\u001b[0m\u001b[0;34m,\u001b[0m \u001b[0mdelimiter\u001b[0m\u001b[0;34m=\u001b[0m\u001b[0;34m','\u001b[0m\u001b[0;34m)\u001b[0m\u001b[0;34m\u001b[0m\u001b[0;34m\u001b[0m\u001b[0m\n\u001b[1;32m      3\u001b[0m      \u001b[0mrow_count\u001b[0m \u001b[0;34m=\u001b[0m \u001b[0msum\u001b[0m\u001b[0;34m(\u001b[0m\u001b[0;36m1\u001b[0m \u001b[0;32mfor\u001b[0m \u001b[0mrow\u001b[0m \u001b[0;32min\u001b[0m \u001b[0mcsv_reader\u001b[0m\u001b[0;34m)\u001b[0m\u001b[0;34m\u001b[0m\u001b[0;34m\u001b[0m\u001b[0m\n\u001b[1;32m      4\u001b[0m      \u001b[0mall_votes\u001b[0m \u001b[0;34m=\u001b[0m \u001b[0mrow_count\u001b[0m\u001b[0;34m-\u001b[0m\u001b[0;36m1\u001b[0m\u001b[0;34m\u001b[0m\u001b[0;34m\u001b[0m\u001b[0m\n\u001b[1;32m      5\u001b[0m      \u001b[0mprint\u001b[0m\u001b[0;34m(\u001b[0m\u001b[0mall_votes\u001b[0m\u001b[0;34m)\u001b[0m\u001b[0;34m\u001b[0m\u001b[0;34m\u001b[0m\u001b[0m\n",
      "\u001b[0;31mFileNotFoundError\u001b[0m: [Errno 2] No such file or directory: 'election_data.csv'"
     ]
    }
   ],
   "source": [
    "with open(\"election_data.csv\",\"r\") as pypollfile:\n",
    "     csv_reader = csv.reader(pypollfile, delimiter=',') \n",
    "     row_count = sum(1 for row in csv_reader) \n",
    "     all_votes = row_count-1\n",
    "     print(all_votes)"
   ]
  },
  {
   "cell_type": "code",
   "execution_count": 6,
   "metadata": {},
   "outputs": [],
   "source": [
    "ids=[]\n",
    "county=[]\n",
    "candidate=[]\n",
    "election={\"ids\",\"county\",\"candidate\"}"
   ]
  },
  {
   "cell_type": "code",
   "execution_count": 7,
   "metadata": {},
   "outputs": [
    {
     "ename": "FileNotFoundError",
     "evalue": "[Errno 2] No such file or directory: 'election_data.csv'",
     "output_type": "error",
     "traceback": [
      "\u001b[0;31m---------------------------------------------------------------------------\u001b[0m",
      "\u001b[0;31mFileNotFoundError\u001b[0m                         Traceback (most recent call last)",
      "\u001b[0;32m<ipython-input-7-082cd25d26fb>\u001b[0m in \u001b[0;36m<module>\u001b[0;34m\u001b[0m\n\u001b[1;32m      1\u001b[0m \u001b[0mcandidate\u001b[0m\u001b[0;34m=\u001b[0m\u001b[0;34m[\u001b[0m\u001b[0;34m]\u001b[0m\u001b[0;34m\u001b[0m\u001b[0;34m\u001b[0m\u001b[0m\n\u001b[1;32m      2\u001b[0m \u001b[0mcanvalue\u001b[0m\u001b[0;34m=\u001b[0m \u001b[0mstr\u001b[0m\u001b[0;34m\u001b[0m\u001b[0;34m\u001b[0m\u001b[0m\n\u001b[0;32m----> 3\u001b[0;31m \u001b[0;32mwith\u001b[0m \u001b[0mopen\u001b[0m\u001b[0;34m(\u001b[0m\u001b[0;34m\"election_data.csv\"\u001b[0m\u001b[0;34m,\u001b[0m\u001b[0;34m\"r\"\u001b[0m\u001b[0;34m)\u001b[0m \u001b[0;32mas\u001b[0m \u001b[0mpypollfile\u001b[0m\u001b[0;34m:\u001b[0m\u001b[0;34m\u001b[0m\u001b[0;34m\u001b[0m\u001b[0m\n\u001b[0m\u001b[1;32m      4\u001b[0m     \u001b[0mcsv_reader\u001b[0m \u001b[0;34m=\u001b[0m \u001b[0mcsv\u001b[0m\u001b[0;34m.\u001b[0m\u001b[0mDictReader\u001b[0m\u001b[0;34m(\u001b[0m\u001b[0mpypollfile\u001b[0m\u001b[0;34m,\u001b[0m\u001b[0mdelimiter\u001b[0m\u001b[0;34m=\u001b[0m\u001b[0;34m','\u001b[0m\u001b[0;34m)\u001b[0m\u001b[0;34m\u001b[0m\u001b[0;34m\u001b[0m\u001b[0m\n\u001b[1;32m      5\u001b[0m     \u001b[0;32mfor\u001b[0m \u001b[0mrow\u001b[0m \u001b[0;32min\u001b[0m \u001b[0mcsv_reader\u001b[0m\u001b[0;34m:\u001b[0m\u001b[0;34m\u001b[0m\u001b[0;34m\u001b[0m\u001b[0m\n",
      "\u001b[0;31mFileNotFoundError\u001b[0m: [Errno 2] No such file or directory: 'election_data.csv'"
     ]
    }
   ],
   "source": [
    "candidate=[]\n",
    "canvalue= str\n",
    "with open(\"election_data.csv\",\"r\") as pypollfile:\n",
    "    csv_reader = csv.DictReader(pypollfile,delimiter=',')\n",
    "    for row in csv_reader:\n",
    "        canvalue= row['Candidate']\n",
    "        candidate.append(canvalue)"
   ]
  },
  {
   "cell_type": "code",
   "execution_count": 8,
   "metadata": {},
   "outputs": [
    {
     "name": "stdout",
     "output_type": "stream",
     "text": [
      "16793141\n"
     ]
    }
   ],
   "source": [
    "idvalue= int\n",
    "with open(\"election_data.csv\",\"r\") as pypollfile:\n",
    "    csv_reader = csv.DictReader(pypollfile,delimiter=',')\n",
    "    for row in csv_reader:\n",
    "        idvalue= row['Voter ID']\n",
    "        ids.append(idvalue)"
   ]
  },
  {
   "cell_type": "code",
   "execution_count": 10,
   "metadata": {},
   "outputs": [
    {
     "name": "stdout",
     "output_type": "stream",
     "text": [
      "Marsh\n"
     ]
    }
   ],
   "source": [
    "countyvalue= int\n",
    "with open(\"election_data.csv\",\"r\") as pypollfile:\n",
    "    csv_reader = csv.DictReader(pypollfile,delimiter=',')\n",
    "    for row in csv_reader:\n",
    "        countyvalue= row['County']\n",
    "        county.append(countyvalue)"
   ]
  },
  {
   "cell_type": "code",
   "execution_count": 23,
   "metadata": {},
   "outputs": [
    {
     "name": "stdout",
     "output_type": "stream",
     "text": [
      "['Correy', \"O'Tooley\", 'Khan', 'Li']\n"
     ]
    }
   ],
   "source": [
    "candidate_list=list(set(candidate))\n",
    "print(candidate_list)"
   ]
  },
  {
   "cell_type": "code",
   "execution_count": 59,
   "metadata": {},
   "outputs": [
    {
     "ename": "AttributeError",
     "evalue": "'dict' object has no attribute 'append'",
     "output_type": "error",
     "traceback": [
      "\u001b[0;31m---------------------------------------------------------------------------\u001b[0m",
      "\u001b[0;31mAttributeError\u001b[0m                            Traceback (most recent call last)",
      "\u001b[0;32m<ipython-input-59-188c4af04af6>\u001b[0m in \u001b[0;36m<module>\u001b[0;34m\u001b[0m\n\u001b[1;32m     12\u001b[0m \u001b[0;34m\u001b[0m\u001b[0m\n\u001b[1;32m     13\u001b[0m \u001b[0melection_results\u001b[0m\u001b[0;34m=\u001b[0m\u001b[0;34m{\u001b[0m\u001b[0;34m}\u001b[0m\u001b[0;34m\u001b[0m\u001b[0;34m\u001b[0m\u001b[0m\n\u001b[0;32m---> 14\u001b[0;31m \u001b[0melection_results\u001b[0m\u001b[0;34m.\u001b[0m\u001b[0mappend\u001b[0m\u001b[0;34m[\u001b[0m\u001b[0mcandidate_list\u001b[0m\u001b[0;34m]\u001b[0m\u001b[0;34m\u001b[0m\u001b[0;34m\u001b[0m\u001b[0m\n\u001b[0m\u001b[1;32m     15\u001b[0m \u001b[0mprint\u001b[0m\u001b[0;34m(\u001b[0m\u001b[0melection_results\u001b[0m\u001b[0;34m)\u001b[0m\u001b[0;34m\u001b[0m\u001b[0;34m\u001b[0m\u001b[0m\n",
      "\u001b[0;31mAttributeError\u001b[0m: 'dict' object has no attribute 'append'"
     ]
    }
   ],
   "source": [
    "#Get total votes for each candidate\n",
    "correy_votes=candidate.count(\"Correy\")\n",
    "otooley_votes=candidate.count(\"O'Tooley\")\n",
    "khan_votes=candidate.count(\"Khan\")\n",
    "li_votes=candidate.count(\"Li\")\n",
    "\n",
    "#Get % of total vote each candidate got\n",
    "per_correy=((correy_votes/all_votes)*100)\n",
    "per_otooley=((otooley_votes/all_votes)*100)\n",
    "per_khan=((khan_votes/all_votes)*100)\n",
    "per_li=((li_votes/all_votes)*100)\n",
    "\n",
    "election_results={}\n",
    "election_results.append[candidate_list]\n",
    "print(election_results)\n",
    "\n",
    "print(vote_per)\n",
    "winner=max(vote_per)\n",
    "election_results={,\n",
    "    candidate_list[0]:vote_per[0],\n",
    "    candidate_list[1]:vote_per[1],\n",
    "    candidate_list[2]:vote_per[2],\n",
    "    candidate_list[3]:vote_per[3],\n",
    "    }\n",
    "print(election_results)\n",
    "i=0,\n",
    "for x,y in election_results.items():\n",
    "    while i <= 3:\n",
    "        if  winner == y:\\n\",\n",
    "                winner_name = x\\n\n",
    "        i += 1\n",
    "print(winner_name)"
   ]
  },
  {
   "cell_type": "code",
   "execution_count": null,
   "metadata": {},
   "outputs": [],
   "source": [
    "f=open(\"output2.txt\",\"a\")\n",
    "print(\"Election Results \\n----------------------------------\",file=f) \n",
    "print(\"Total votes: %s\" %all_votes,file=f) \n",
    "print(\"\\n----------------------------------\")\n",
    "print(candidate_list[0]\":\" %per_corry%s%correy_votes ,file=f) \n",
    "print(\"Average Change: %s\" %avg_chg,file=f) \n",
    "print(\"Greatest Increase: %s\" %dates[24],max_increase,file=f) \n",
    "print(\"Greatest Decrease: %s\" %dates[43],min_increase,file=f) \n",
    "f.close()"
   ]
  },
  {
   "cell_type": "code",
   "execution_count": 62,
   "metadata": {},
   "outputs": [
    {
     "name": "stdout",
     "output_type": "stream",
     "text": [
      "Election Results \n",
      "----------------------------------\n",
      "Total votes: 3521001\n",
      "----------------------------------\n",
      "Correy : 19.999994319797125 % ( 704200 )\n",
      "O'Tooley : 2.999999147969569 % ( 105630 )\n",
      "Khan : 63.00001050837531 % ( 2218231 )\n",
      "Li : 13.999996023857989 % ( 492940 )\n",
      "----------------------------------\n"
     ]
    }
   ],
   "source": [
    "print(\"Election Results \\n----------------------------------\") \n",
    "print(\"Total votes: %s\" %all_votes) \n",
    "print(\"----------------------------------\")\n",
    "print(candidate_list[0],\":\",per_correy,\"%\", \"(\", correy_votes,\")\")\n",
    "print(candidate_list[1],\":\",per_otooley,\"%\", \"(\", otooley_votes,\")\")\n",
    "print(candidate_list[2],\":\",per_khan,\"%\", \"(\", khan_votes,\")\")\n",
    "print(candidate_list[3],\":\",per_li,\"%\", \"(\", li_votes,\")\")\n",
    "print(\"----------------------------------\")\n",
    "print(\"Winner: %s\": )\n"
   ]
  },
  {
   "cell_type": "code",
   "execution_count": null,
   "metadata": {},
   "outputs": [],
   "source": []
  }
 ],
 "metadata": {
  "kernelspec": {
   "display_name": "Python 3",
   "language": "python",
   "name": "python3"
  },
  "language_info": {
   "codemirror_mode": {
    "name": "ipython",
    "version": 3
   },
   "file_extension": ".py",
   "mimetype": "text/x-python",
   "name": "python",
   "nbconvert_exporter": "python",
   "pygments_lexer": "ipython3",
   "version": "3.7.3"
  }
 },
 "nbformat": 4,
 "nbformat_minor": 2
}
