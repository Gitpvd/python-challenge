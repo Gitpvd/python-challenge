{
 "cells": [
  {
   "cell_type": "code",
   "execution_count": 1,
   "metadata": {},
   "outputs": [],
   "source": [
    "import os\n",
    "import csv"
   ]
  },
  {
   "cell_type": "code",
   "execution_count": 2,
   "metadata": {},
   "outputs": [],
   "source": [
    "pypollfile_path=\"election_data.csv\""
   ]
  },
  {
   "cell_type": "code",
   "execution_count": 3,
   "metadata": {},
   "outputs": [
    {
     "name": "stdout",
     "output_type": "stream",
     "text": [
      "3521001\n"
     ]
    }
   ],
   "source": [
    "with open(\"election_data.csv\",\"r\") as pypollfile:\n",
    "     csv_reader = csv.reader(pypollfile, delimiter=',') \n",
    "     row_count = sum(1 for row in csv_reader) \n",
    "     all_votes = row_count-1\n",
    "     print(all_votes)"
   ]
  },
  {
   "cell_type": "code",
   "execution_count": 4,
   "metadata": {},
   "outputs": [],
   "source": [
    "ids=[]\n",
    "county=[]\n",
    "candidate=[]\n",
    "election={\"ids\",\"county\",\"candidate\"}"
   ]
  },
  {
   "cell_type": "code",
   "execution_count": 9,
   "metadata": {},
   "outputs": [
    {
     "name": "stdout",
     "output_type": "stream",
     "text": [
      "Khan\n"
     ]
    }
   ],
   "source": [
    "candidate=[]\n",
    "canvalue= str\n",
    "with open(\"election_data.csv\",\"r\") as pypollfile:\n",
    "    csv_reader = csv.DictReader(pypollfile,delimiter=',')\n",
    "    for row in csv_reader:\n",
    "        canvalue= row['Candidate']\n",
    "        candidate.append(canvalue)"
   ]
  },
  {
   "cell_type": "code",
   "execution_count": 8,
   "metadata": {},
   "outputs": [
    {
     "name": "stdout",
     "output_type": "stream",
     "text": [
      "16793141\n"
     ]
    }
   ],
   "source": [
    "idvalue= int\n",
    "with open(\"election_data.csv\",\"r\") as pypollfile:\n",
    "    csv_reader = csv.DictReader(pypollfile,delimiter=',')\n",
    "    for row in csv_reader:\n",
    "        idvalue= row['Voter ID']\n",
    "        ids.append(idvalue)"
   ]
  },
  {
   "cell_type": "code",
   "execution_count": 10,
   "metadata": {},
   "outputs": [
    {
     "name": "stdout",
     "output_type": "stream",
     "text": [
      "Marsh\n"
     ]
    }
   ],
   "source": [
    "countyvalue= int\n",
    "with open(\"election_data.csv\",\"r\") as pypollfile:\n",
    "    csv_reader = csv.DictReader(pypollfile,delimiter=',')\n",
    "    for row in csv_reader:\n",
    "        countyvalue= row['County']\n",
    "        county.append(countyvalue)"
   ]
  },
  {
   "cell_type": "code",
   "execution_count": 19,
   "metadata": {},
   "outputs": [
    {
     "name": "stdout",
     "output_type": "stream",
     "text": [
      "{'Correy', \"O'Tooley\", 'Khan', 'Li'}\n"
     ]
    }
   ],
   "source": [
    "candidate_list = []\n",
    "candidate_list=set(candidate)\n",
    "print(candidate_list)"
   ]
  },
  {
   "cell_type": "code",
   "execution_count": null,
   "metadata": {},
   "outputs": [],
   "source": []
  }
 ],
 "metadata": {
  "kernelspec": {
   "display_name": "Python 3",
   "language": "python",
   "name": "python3"
  },
  "language_info": {
   "codemirror_mode": {
    "name": "ipython",
    "version": 3
   },
   "file_extension": ".py",
   "mimetype": "text/x-python",
   "name": "python",
   "nbconvert_exporter": "python",
   "pygments_lexer": "ipython3",
   "version": "3.7.3"
  }
 },
 "nbformat": 4,
 "nbformat_minor": 2
}
